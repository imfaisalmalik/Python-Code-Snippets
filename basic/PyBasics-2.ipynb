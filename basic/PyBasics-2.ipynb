{
 "cells": [
  {
   "cell_type": "markdown",
   "metadata": {},
   "source": [
    "**Table of contents**<a id='toc0_'></a>    \n",
    "- [Python if...else](#toc1_)    \n",
    "- [Python for Loop](#toc2_)    \n",
    "  - [Python for loop with else](#toc2_1_)    \n",
    "- [Python while Loop](#toc3_)    \n",
    "  - [Python While loop with else](#toc3_1_)    \n",
    "- [Python break Statement](#toc4_)    \n",
    "- [Python continue Statement](#toc5_)    \n",
    "- [Python pass Statement](#toc6_)    \n",
    "\n",
    "<!-- vscode-jupyter-toc-config\n",
    "\tnumbering=false\n",
    "\tanchor=true\n",
    "\tflat=false\n",
    "\tminLevel=1\n",
    "\tmaxLevel=6\n",
    "\t/vscode-jupyter-toc-config -->\n",
    "<!-- THIS CELL WILL BE REPLACED ON TOC UPDATE. DO NOT WRITE YOUR TEXT IN THIS CELL -->"
   ]
  },
  {
   "cell_type": "markdown",
   "metadata": {},
   "source": [
    "# <a id='toc1_'></a>[Python if...else](#toc0_)\n",
    "\n",
    "\n",
    "- we use the if statement to run a block code only when a certain condition is met.\n",
    "\n",
    "If the condition evaluates to False,\n",
    "- the code inside else is executed\n",
    "- the code inside if is skipped\n",
    "\n",
    "\n",
    "The `if...else` statement is used to execute a block of code among two alternatives.\n",
    "- However, if we need to make a choice between more than two alternatives, then we use the `if...elif...else` statement.\n"
   ]
  },
  {
   "cell_type": "code",
   "execution_count": 1,
   "metadata": {},
   "outputs": [
    {
     "name": "stdout",
     "output_type": "stream",
     "text": [
      "Zero\n",
      "This statement is always executed\n"
     ]
    }
   ],
   "source": [
    "number = 0\n",
    "\n",
    "if number > 0:\n",
    "    print(\"Positive number\")\n",
    "\n",
    "elif number == 0:\n",
    "    print('Zero')\n",
    "else:\n",
    "    print('Negative number')\n",
    "\n",
    "print('This statement is always executed')"
   ]
  },
  {
   "cell_type": "markdown",
   "metadata": {},
   "source": [
    "There are 2 types of loops in Python:\n",
    "- for loop\n",
    "- while loop\n",
    "\n",
    "# <a id='toc2_'></a>[Python for Loop](#toc0_)\n",
    "\n",
    "In Python, a for loop is used to iterate over sequences such as lists, tuples, string, etc."
   ]
  },
  {
   "cell_type": "code",
   "execution_count": 2,
   "metadata": {},
   "outputs": [
    {
     "name": "stdout",
     "output_type": "stream",
     "text": [
      "Swift\n",
      "Python\n",
      "Go\n",
      "JavaScript\n"
     ]
    }
   ],
   "source": [
    "languages = ['Swift', 'Python', 'Go', 'JavaScript']\n",
    "\n",
    "# run a loop for each item of the list\n",
    "for language in languages:\n",
    "    print(language)"
   ]
  },
  {
   "cell_type": "markdown",
   "metadata": {},
   "source": [
    "## <a id='toc2_1_'></a>[Python for loop with else](#toc0_)\n",
    "\n",
    "- A for loop can have an optional else block. \n",
    "- The else part is executed when the loop is exhausted (after the loop iterates through every item of a sequence).\n",
    "\n",
    "**Note: The else block will not execute if the for loop is stopped by a break statement.**"
   ]
  },
  {
   "cell_type": "code",
   "execution_count": 4,
   "metadata": {},
   "outputs": [
    {
     "name": "stdout",
     "output_type": "stream",
     "text": [
      "0\n",
      "1\n",
      "5\n",
      "No items left.\n",
      "101\n"
     ]
    }
   ],
   "source": [
    "digits = [0, 1, 5]\n",
    "\n",
    "for i in digits:\n",
    "    print(i)\n",
    "else:\n",
    "    print(\"No items left.\")     # Executed\n",
    "\n",
    "#############################################################\n",
    "\n",
    "digits = [101, 111, 523]\n",
    "\n",
    "for i in digits:\n",
    "    print(i)\n",
    "    break\n",
    "else:\n",
    "    print(\"No items left.\")     # Not Executed "
   ]
  },
  {
   "cell_type": "markdown",
   "metadata": {},
   "source": [
    "# <a id='toc3_'></a>[Python while Loop](#toc0_)\n",
    "\n",
    "Python while loop is used to run a block code until a certain condition is met.\n",
    "\n",
    "## <a id='toc3_1_'></a>[Python While loop with else](#toc0_)\n",
    "\n",
    "- In Python, a while loop may have an optional else block.\n",
    "- Here, the else part is executed after the condition of the loop evaluates to False.\n",
    "\n",
    "**Note: The else block will not execute if the while loop is terminated by a break statement.**"
   ]
  },
  {
   "cell_type": "code",
   "execution_count": 6,
   "metadata": {},
   "outputs": [
    {
     "name": "stdout",
     "output_type": "stream",
     "text": [
      "Inside loop1\n",
      "Inside else2\n",
      "Outside loop2\n"
     ]
    }
   ],
   "source": [
    "counter = 0\n",
    "\n",
    "while counter < 3:\n",
    "    # loop ends because of break\n",
    "    # the else part is not executed \n",
    "    if counter == 1:\n",
    "        break\n",
    "\n",
    "    print('Inside loop1')\n",
    "    counter = counter + 1\n",
    "else:\n",
    "    print('Inside else1')\n",
    "\n",
    "#############################################################\n",
    "\n",
    "counter = 5\n",
    "\n",
    "while counter < 3:\n",
    "    # loop ends because of break\n",
    "    # the else part is not executed \n",
    "    if counter == 1:\n",
    "        break\n",
    "\n",
    "    print('Inside loop2')\n",
    "    counter = counter + 1\n",
    "else:\n",
    "    print('Inside else2')\n",
    "\n",
    "print('Outside loop2')"
   ]
  },
  {
   "cell_type": "markdown",
   "metadata": {},
   "source": [
    "# <a id='toc4_'></a>[Python break Statement](#toc0_)\n",
    "The break statement is used to terminate the loop immediately when it is encountered.\n",
    "\n",
    "# <a id='toc5_'></a>[Python continue Statement](#toc0_)\n",
    "The continue statement is used to skip the current iteration of the loop and the control flow of the program goes to the next iteration.\n",
    "\n",
    "# <a id='toc6_'></a>[Python pass Statement](#toc0_)\n",
    "- In Python programming, the pass statement is a null statement which can be used as a placeholder for future code.\n",
    "- Suppose we have a loop or a function that is not implemented yet, but we want to implement it in the future. In such cases, we can use the pass statement.\n"
   ]
  },
  {
   "cell_type": "code",
   "execution_count": 9,
   "metadata": {},
   "outputs": [
    {
     "name": "stdout",
     "output_type": "stream",
     "text": [
      "1\n",
      "3\n",
      "5\n",
      "7\n",
      "9\n"
     ]
    }
   ],
   "source": [
    "# program to print odd numbers from 1 to 10\n",
    "num = 0\n",
    "\n",
    "while num < 10:\n",
    "    num += 1\n",
    "    if (num % 2) == 0:\n",
    "        continue\n",
    "    print(num)\n",
    "\n",
    "#########################################\n",
    "# program to print odd numbers from 1 to 10\n",
    "number = 1\n",
    "while (number%2 != 0) and (number < 10) :\n",
    "    print(number) \n",
    "    number += 2"
   ]
  },
  {
   "cell_type": "code",
   "execution_count": null,
   "metadata": {},
   "outputs": [],
   "source": []
  }
 ],
 "metadata": {
  "kernelspec": {
   "display_name": "Python 3",
   "language": "python",
   "name": "python3"
  },
  "language_info": {
   "codemirror_mode": {
    "name": "ipython",
    "version": 3
   },
   "file_extension": ".py",
   "mimetype": "text/x-python",
   "name": "python",
   "nbconvert_exporter": "python",
   "pygments_lexer": "ipython3",
   "version": "3.10.4"
  }
 },
 "nbformat": 4,
 "nbformat_minor": 2
}
