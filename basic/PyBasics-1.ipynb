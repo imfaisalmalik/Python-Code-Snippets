{
 "cells": [
  {
   "cell_type": "markdown",
   "metadata": {},
   "source": [
    "# Python Keywords\n",
    "- Keywords are predefined, reserved words \n",
    "- Cannot use a keyword as a variable name, function name\n",
    "- used to define the syntax and structure of the Python language\n",
    "\n",
    "**Python has `35 keywords` >> All the keywords except True, False and None are in lowercase**"
   ]
  },
  {
   "cell_type": "markdown",
   "metadata": {},
   "source": [
    "## Python 35 Keywords\n",
    "\n",
    "`import` `from` `as` \n",
    "\n",
    "`if` `else` `elif`\n",
    "\n",
    "`in` `is` `and` `or` `not`\n",
    "\n",
    "`for` `while` `break` `continue` `pass`\n",
    "\n",
    "`def` `return` `raise` `yield`\n",
    "\n",
    "`try` `except` `finally` `assert`\n",
    "\n",
    "`global` `nonlocal`\n",
    "\n",
    "`lambda` `True` `False` `None`\n",
    "\n",
    "`with` `await` `async` `del` `class`\n"
   ]
  },
  {
   "cell_type": "code",
   "execution_count": 1,
   "metadata": {},
   "outputs": [
    {
     "name": "stdout",
     "output_type": "stream",
     "text": [
      "\n",
      "Here is a list of the Python keywords.  Enter any keyword to get more help.\n",
      "\n",
      "False               class               from                or\n",
      "None                continue            global              pass\n",
      "True                def                 if                  raise\n",
      "and                 del                 import              return\n",
      "as                  elif                in                  try\n",
      "assert              else                is                  while\n",
      "async               except              lambda              with\n",
      "await               finally             nonlocal            yield\n",
      "break               for                 not                 \n",
      "\n"
     ]
    }
   ],
   "source": [
    "# Print All Python Keywords\n",
    "help(\"keywords\")"
   ]
  },
  {
   "cell_type": "markdown",
   "metadata": {},
   "source": [
    "# Python Identifiers\n",
    "\n",
    "Identifiers are the name given to variables, classes, methods, etc.\n",
    "\n",
    "`language = 'Python'`\n",
    "Here, language is a variable (an identifier) which holds the value 'Python'\n",
    "\n",
    "\n",
    "## Variables\n",
    "A `variable` is a container (storage area) to hold data.  Exp: `number = 10`\n",
    "\n",
    "**Variable Naming Conventions**\n",
    "- snake_case\n",
    "- MACRO_CASE\n",
    "- camelCase\n",
    "- CapWords\n",
    "\n",
    "\n",
    "## Constants\n",
    "A `constant` is a special type of variable whose value cannot (is not) be changed. Exp: PI = 3.14\n",
    "\n",
    "## Literals\n",
    "`Literals` are representations of fixed values in a program. \\\n",
    "They can be numbers, characters, or strings, etc. For example, 'Hello, World!', 12, 23.0, 'C', etc.\n",
    "\n",
    "**Python Literal Types**\n",
    " - `Numeric literals: ` can belong to 3 different numerical types: Integer, Float, and Complex. Exp:  a = 6 + 9j. \n",
    " - `boolean literals:` True, False\n",
    " - `Character literals:` are unicode characters enclosed in a quote. Exp: some_character = 'S'\n",
    " - `String literals` are sequences of Characters enclosed in quotation marks.\n",
    " - `Special literal:` None >> used to specify a null variable. Exp: num = None\n",
    " - `Four literal collections:` List literals, Tuple literals, Dict literals, and Set literals.\n",
    "\n"
   ]
  },
  {
   "cell_type": "markdown",
   "metadata": {},
   "source": [
    "# Python Data Types\n",
    "\n",
    "\n",
    "![Python Data Types](imgs/python_data_types.PNG)\n",
    "\n",
    "\n",
    "**Since everything is an object in Python programming, data types are actually classes and variables are instances(object) of these classes.**\n",
    "\n"
   ]
  },
  {
   "cell_type": "code",
   "execution_count": 4,
   "metadata": {},
   "outputs": [
    {
     "name": "stdout",
     "output_type": "stream",
     "text": [
      "5 is of type <class 'int'>\n",
      "2.0 is of type <class 'float'>\n",
      "(1+2j) is of type <class 'complex'>\n",
      "5 is Binary of type <class 'int'>\n",
      "105 is Octa of type <class 'int'>\n",
      "337 is Hexa of type <class 'int'>\n",
      "010\n"
     ]
    }
   ],
   "source": [
    "num1 = 5\n",
    "print(num1, 'is of type', type(num1))\n",
    "\n",
    "num2 = 2.0\n",
    "print(num2, 'is of type', type(num2))\n",
    "\n",
    "num3 = 1+2j\n",
    "print(num3, 'is of type', type(num3))\n",
    "\n",
    "num4 = 0b101 #Binary \n",
    "print(num4, 'is Binary of type', type(num4))\n",
    "\n",
    "num4 = 0o151\n",
    "print(num4, 'is Octa of type', type(num4))\n",
    "\n",
    "num4 = 0x151\n",
    "print(num4, 'is Hexa of type', type(num4))\n",
    "\n",
    "binary = 0b010\n",
    "print(\"{:03b}\".format(binary))"
   ]
  },
  {
   "cell_type": "code",
   "execution_count": null,
   "metadata": {},
   "outputs": [],
   "source": []
  },
  {
   "cell_type": "code",
   "execution_count": null,
   "metadata": {},
   "outputs": [],
   "source": []
  }
 ],
 "metadata": {
  "kernelspec": {
   "display_name": "Python 3",
   "language": "python",
   "name": "python3"
  },
  "language_info": {
   "codemirror_mode": {
    "name": "ipython",
    "version": 3
   },
   "file_extension": ".py",
   "mimetype": "text/x-python",
   "name": "python",
   "nbconvert_exporter": "python",
   "pygments_lexer": "ipython3",
   "version": "3.10.4"
  }
 },
 "nbformat": 4,
 "nbformat_minor": 2
}
