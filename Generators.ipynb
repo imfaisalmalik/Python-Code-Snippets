{
 "cells": [
  {
   "cell_type": "markdown",
   "id": "de1ec6b1",
   "metadata": {},
   "source": [
    "# Python Generator\n",
    "\n",
    "- A function that returns an `iterator` that produces a sequence of values when iterated over.\n",
    "\n",
    "- Generators are useful when we want to produce a large sequence of values, but we don't want to store all of them in memory at once."
   ]
  },
  {
   "cell_type": "markdown",
   "id": "76f9871c",
   "metadata": {},
   "source": [
    "## 1. Create & Access Python Generator\n",
    "\n",
    "- In Python, similar to defining a normal function,\n",
    "- instead of the `return` use the `yield` statement.\n",
    "\n",
    "```\n",
    "********************************\n",
    "\n",
    "def generator_name(arg):\n",
    "    # statements\n",
    "    yield something\n",
    "\n",
    "********************************\n",
    "```"
   ]
  },
  {
   "cell_type": "code",
   "execution_count": 1,
   "id": "ec6c15ab",
   "metadata": {},
   "outputs": [
    {
     "name": "stdout",
     "output_type": "stream",
     "text": [
      "value:  0\n",
      "value:  1\n",
      "value:  2\n",
      "value:  3\n",
      "value:  4\n"
     ]
    }
   ],
   "source": [
    "# A generator function that produce Sequence of Numbers\n",
    "\n",
    "def sequence_generator(num):\n",
    "    value = 0\n",
    "    while value < num:\n",
    "        yield value\n",
    "        value += 1\n",
    "\n",
    "for i in sequence_generator(5):\n",
    "    print('value: ', i)\n",
    "    \n",
    "    "
   ]
  },
  {
   "cell_type": "code",
   "execution_count": 2,
   "id": "87d022f6",
   "metadata": {},
   "outputs": [
    {
     "name": "stdout",
     "output_type": "stream",
     "text": [
      "<generator object sequence_generator at 0x0000024397959430>\n",
      "0\n",
      "1\n",
      "2\n",
      "3\n",
      "4\n"
     ]
    },
    {
     "ename": "StopIteration",
     "evalue": "",
     "output_type": "error",
     "traceback": [
      "\u001b[1;31m---------------------------------------------------------------------------\u001b[0m",
      "\u001b[1;31mStopIteration\u001b[0m                             Traceback (most recent call last)",
      "\u001b[1;32m~\\AppData\\Local\\Temp/ipykernel_15468/4060212258.py\u001b[0m in \u001b[0;36m<module>\u001b[1;34m\u001b[0m\n\u001b[0;32m      9\u001b[0m \u001b[0mprint\u001b[0m\u001b[1;33m(\u001b[0m\u001b[0mnext\u001b[0m\u001b[1;33m(\u001b[0m\u001b[0mnums\u001b[0m\u001b[1;33m)\u001b[0m\u001b[1;33m)\u001b[0m\u001b[1;33m\u001b[0m\u001b[1;33m\u001b[0m\u001b[0m\n\u001b[0;32m     10\u001b[0m \u001b[0mprint\u001b[0m\u001b[1;33m(\u001b[0m\u001b[0mnext\u001b[0m\u001b[1;33m(\u001b[0m\u001b[0mnums\u001b[0m\u001b[1;33m)\u001b[0m\u001b[1;33m)\u001b[0m\u001b[1;33m\u001b[0m\u001b[1;33m\u001b[0m\u001b[0m\n\u001b[1;32m---> 11\u001b[1;33m \u001b[0mprint\u001b[0m\u001b[1;33m(\u001b[0m\u001b[0mnext\u001b[0m\u001b[1;33m(\u001b[0m\u001b[0mnums\u001b[0m\u001b[1;33m)\u001b[0m\u001b[1;33m)\u001b[0m   \u001b[1;31m# gives stop iteration error when limit exceeded.\u001b[0m\u001b[1;33m\u001b[0m\u001b[1;33m\u001b[0m\u001b[0m\n\u001b[0m",
      "\u001b[1;31mStopIteration\u001b[0m: "
     ]
    }
   ],
   "source": [
    "# Another way for accessing Generator elements\n",
    "\n",
    "nums = sequence_generator(5) # crearting generator object\n",
    "print(nums) # Show you generator object with memory address\n",
    "\n",
    "print(next(nums))\n",
    "print(next(nums))\n",
    "print(next(nums))\n",
    "print(next(nums))\n",
    "print(next(nums))\n",
    "print(next(nums))   # gives stop iteration error when limit exceeded."
   ]
  },
  {
   "cell_type": "markdown",
   "id": "6a0d8795",
   "metadata": {},
   "source": [
    "## 2. Generator Expression Syntax\n",
    "\n",
    " ```(expression for item in iterable)```\n",
    "\n",
    "`expression` is a value that will be returned for each item in the iterable"
   ]
  },
  {
   "cell_type": "code",
   "execution_count": 3,
   "id": "2109bee7",
   "metadata": {},
   "outputs": [
    {
     "name": "stdout",
     "output_type": "stream",
     "text": [
      "<generator object <genexpr> at 0x0000024397A17040>\n"
     ]
    }
   ],
   "source": [
    "square = (i*i for i in range(5)) #creating Generator object\n",
    "print(square)"
   ]
  },
  {
   "cell_type": "markdown",
   "id": "1e877955",
   "metadata": {},
   "source": [
    "## 3. Usage of Generators\n",
    "\n",
    "- Memory Efficient\n",
    "- Represent Infinite Stream\n",
    "- Pipelining Generators\n",
    "\n",
    "\n",
    "\n",
    "**Reference**\n",
    "\n",
    "https://www.programiz.com/python-programming/generator"
   ]
  }
 ],
 "metadata": {
  "kernelspec": {
   "display_name": "Python 3 (ipykernel)",
   "language": "python",
   "name": "python3"
  },
  "language_info": {
   "codemirror_mode": {
    "name": "ipython",
    "version": 3
   },
   "file_extension": ".py",
   "mimetype": "text/x-python",
   "name": "python",
   "nbconvert_exporter": "python",
   "pygments_lexer": "ipython3",
   "version": "3.9.7"
  }
 },
 "nbformat": 4,
 "nbformat_minor": 5
}
