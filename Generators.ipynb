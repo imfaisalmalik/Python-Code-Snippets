{
 "cells": [
  {
   "cell_type": "markdown",
   "id": "b30d2461",
   "metadata": {},
   "source": [
    "# Python Generator\n",
    "\n",
    "- A function that returns an `iterator` that produces a sequence of values when iterated over.\n",
    "\n",
    "- Generators are useful when we want to produce a large sequence of values, but we don't want to store all of them in memory at once."
   ]
  },
  {
   "cell_type": "markdown",
   "id": "414427c6",
   "metadata": {},
   "source": [
    "## 1. Create & Access Python Generator\n",
    "\n",
    "- In Python, similar to defining a normal function,\n",
    "- instead of the `return` use the `yield` statement.\n",
    "\n",
    "```\n",
    "********************************\n",
    "\n",
    "def generator_name(arg):\n",
    "    # statements\n",
    "    yield something\n",
    "\n",
    "********************************\n",
    "```"
   ]
  },
  {
   "cell_type": "code",
   "execution_count": 3,
   "id": "370ea855",
   "metadata": {},
   "outputs": [
    {
     "name": "stdout",
     "output_type": "stream",
     "text": [
      "value:  0\n",
      "value:  1\n",
      "value:  2\n",
      "value:  3\n",
      "value:  4\n"
     ]
    }
   ],
   "source": [
    "# A generator function that produce Sequence of Numbers\n",
    "\n",
    "def sequence_generator(num):\n",
    "    value = 0\n",
    "    while value < num:\n",
    "        yield value\n",
    "        value += 1\n",
    "\n",
    "for i in sequence_generator(5):\n",
    "    print('value: ', i)\n",
    "    \n",
    "    "
   ]
  },
  {
   "cell_type": "code",
   "execution_count": 13,
   "id": "ff2d87d4",
   "metadata": {},
   "outputs": [
    {
     "name": "stdout",
     "output_type": "stream",
     "text": [
      "<generator object sequence_generator at 0x000001C5DC065580>\n"
     ]
    }
   ],
   "source": [
    "# Another way for accessing Generator elements\n",
    "\n",
    "nums = sequence_generator(5) # crearting generator object\n",
    "print(nums) # Show you generator object with memory address\n",
    "\n",
    "print(next(nums))\n",
    "print(next(nums))\n",
    "print(next(nums))\n",
    "print(next(nums))\n",
    "print(next(nums))\n",
    "print(next(nums))   # gives stop iteration error when limit exceeded."
   ]
  },
  {
   "cell_type": "code",
   "execution_count": 15,
   "id": "892031ac",
   "metadata": {},
   "outputs": [
    {
     "ename": "NameError",
     "evalue": "name 'my_range' is not defined",
     "output_type": "error",
     "traceback": [
      "\u001b[1;31m---------------------------------------------------------------------------\u001b[0m",
      "\u001b[1;31mNameError\u001b[0m                                 Traceback (most recent call last)",
      "\u001b[1;32m~\\AppData\\Local\\Temp/ipykernel_14764/1912924913.py\u001b[0m in \u001b[0;36m<module>\u001b[1;34m\u001b[0m\n\u001b[1;32m----> 1\u001b[1;33m \u001b[0msequence_generator\u001b[0m \u001b[1;33m=\u001b[0m \u001b[0mmy_range\u001b[0m\u001b[1;33m(\u001b[0m\u001b[1;36m3\u001b[0m\u001b[1;33m)\u001b[0m\u001b[1;33m\u001b[0m\u001b[1;33m\u001b[0m\u001b[0m\n\u001b[0m\u001b[0;32m      2\u001b[0m \u001b[0mprint\u001b[0m\u001b[1;33m(\u001b[0m\u001b[0mnext\u001b[0m\u001b[1;33m(\u001b[0m\u001b[0msequence_generator\u001b[0m\u001b[1;33m)\u001b[0m\u001b[1;33m)\u001b[0m  \u001b[1;31m# 0\u001b[0m\u001b[1;33m\u001b[0m\u001b[1;33m\u001b[0m\u001b[0m\n\u001b[0;32m      3\u001b[0m \u001b[0mprint\u001b[0m\u001b[1;33m(\u001b[0m\u001b[0mnext\u001b[0m\u001b[1;33m(\u001b[0m\u001b[0msequence_generator\u001b[0m\u001b[1;33m)\u001b[0m\u001b[1;33m)\u001b[0m  \u001b[1;31m# 1\u001b[0m\u001b[1;33m\u001b[0m\u001b[1;33m\u001b[0m\u001b[0m\n\u001b[0;32m      4\u001b[0m \u001b[0mprint\u001b[0m\u001b[1;33m(\u001b[0m\u001b[0mnext\u001b[0m\u001b[1;33m(\u001b[0m\u001b[0msequence_generator\u001b[0m\u001b[1;33m)\u001b[0m\u001b[1;33m)\u001b[0m  \u001b[1;31m# 2\u001b[0m\u001b[1;33m\u001b[0m\u001b[1;33m\u001b[0m\u001b[0m\n",
      "\u001b[1;31mNameError\u001b[0m: name 'my_range' is not defined"
     ]
    }
   ],
   "source": [
    "sequence_generator = my_range(3)\n",
    "print(next(sequence_generator))  # 0\n",
    "print(next(sequence_generator))  # 1\n",
    "print(next(sequence_generator))  # 2"
   ]
  },
  {
   "cell_type": "markdown",
   "id": "812204fb",
   "metadata": {},
   "source": [
    "## 2. Generator Expression Syntax\n",
    "\n",
    " ```(expression for item in iterable)```\n",
    "\n",
    "`expression` is a value that will be returned for each item in the iterable"
   ]
  },
  {
   "cell_type": "code",
   "execution_count": 16,
   "id": "8b7f8e1a",
   "metadata": {},
   "outputs": [
    {
     "name": "stdout",
     "output_type": "stream",
     "text": [
      "<generator object <genexpr> at 0x000001C5DC0659E0>\n"
     ]
    }
   ],
   "source": [
    "square = (i*i for i in range(5)) #creating Generator object\n",
    "print(square)"
   ]
  },
  {
   "cell_type": "markdown",
   "id": "dffb7bf4",
   "metadata": {},
   "source": [
    "## 3. Usage of Generators\n",
    "\n",
    "- Memory Efficient\n",
    "- Represent Infinite Stream\n",
    "- Pipelining Generators\n",
    "\n",
    "\n",
    "\n",
    "**Reference**\n",
    "\n",
    "https://www.programiz.com/python-programming/generator"
   ]
  }
 ],
 "metadata": {
  "kernelspec": {
   "display_name": "Python 3 (ipykernel)",
   "language": "python",
   "name": "python3"
  },
  "language_info": {
   "codemirror_mode": {
    "name": "ipython",
    "version": 3
   },
   "file_extension": ".py",
   "mimetype": "text/x-python",
   "name": "python",
   "nbconvert_exporter": "python",
   "pygments_lexer": "ipython3",
   "version": "3.9.7"
  }
 },
 "nbformat": 4,
 "nbformat_minor": 5
}
