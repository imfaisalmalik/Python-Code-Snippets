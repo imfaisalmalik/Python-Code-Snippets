{
 "cells": [
  {
   "cell_type": "markdown",
   "id": "8b964602",
   "metadata": {},
   "source": [
    "# Decorator\n",
    "\n",
    "- A design pattern that allows you to modify the functionality of a function by wrapping it in another function.\n",
    "- The outer function is called the decorator, which takes the original function as an argument and returns a modified version of it.\n",
    "\n",
    "\n",
    "## 1. Prerequisites\n",
    "\n",
    "Intuition of the following concepts:\n",
    "\n",
    "- Nested Function\n",
    "- Pass Function as Argument\n",
    "- Return a Function as a Value\n"
   ]
  },
  {
   "cell_type": "code",
   "execution_count": 1,
   "id": "0b983a66",
   "metadata": {},
   "outputs": [
    {
     "name": "stdout",
     "output_type": "stream",
     "text": [
      "11\n"
     ]
    }
   ],
   "source": [
    "# Nested Function : include one function inside another\n",
    "\n",
    "def outer(x):\n",
    "    def inner(y):\n",
    "        return x + y\n",
    "    return inner\n",
    "\n",
    "\n",
    "add_five = outer(5)\n",
    "result = add_five(6)\n",
    "print(result)"
   ]
  },
  {
   "cell_type": "code",
   "execution_count": 2,
   "id": "251844da",
   "metadata": {},
   "outputs": [
    {
     "name": "stdout",
     "output_type": "stream",
     "text": [
      "10\n"
     ]
    }
   ],
   "source": [
    "# Pass Function as Argument: pass a function as an argument to another function\n",
    "\n",
    "def add(x, y):\n",
    "    return x + y\n",
    "\n",
    "def calculate(func, x, y):\n",
    "    return func(x, y)\n",
    "\n",
    "result = calculate(add, 4, 6)\n",
    "print(result)"
   ]
  },
  {
   "cell_type": "code",
   "execution_count": 3,
   "id": "b3715ab8",
   "metadata": {},
   "outputs": [
    {
     "name": "stdout",
     "output_type": "stream",
     "text": [
      "Hello, Ali!\n"
     ]
    }
   ],
   "source": [
    "# Return a Function as a Value: return a function as a return value\n",
    "\n",
    "def greeting(name):\n",
    "    def hello():\n",
    "        return \"Hello, \" + name + \"!\"\n",
    "    return hello\n",
    "\n",
    "greet = greeting(\"Ali\")\n",
    "print(greet())"
   ]
  },
  {
   "cell_type": "markdown",
   "id": "4c0c92c9",
   "metadata": {},
   "source": [
    "## 2. Decorator\n",
    "\n",
    "**A Python decorator is a function that takes in a function and returns it by adding some functionality.**\n",
    "\n",
    "- A decorator takes in a function, adds some functionality and returns it."
   ]
  },
  {
   "cell_type": "code",
   "execution_count": 4,
   "id": "d2ac0c36",
   "metadata": {},
   "outputs": [
    {
     "name": "stdout",
     "output_type": "stream",
     "text": [
      "I got decorated.\n",
      "I am ordinary function.\n"
     ]
    }
   ],
   "source": [
    "def wrapper_func(func):  # decorator func\n",
    "    def inner_func():\n",
    "        print(\"I got decorated.\")\n",
    "        func()\n",
    "    return inner_func\n",
    "\n",
    "def ordinary_func():\n",
    "    print(\"I am ordinary function.\")\n",
    "\n",
    "\n",
    "# decorate the ordinary function\n",
    "decorated_func = wrapper_func(ordinary_func)\n",
    "# call the decorated function\n",
    "decorated_func()\n",
    "        "
   ]
  },
  {
   "cell_type": "markdown",
   "id": "27f541d7",
   "metadata": {},
   "source": [
    "## 3. @ Symbol With Decorator\n",
    "\n",
    "- Instead of assigning the function call to a variable, a much more elegant way to achieve this functionality using the @ symbol. "
   ]
  },
  {
   "cell_type": "code",
   "execution_count": 5,
   "id": "0ec237f5",
   "metadata": {},
   "outputs": [
    {
     "name": "stdout",
     "output_type": "stream",
     "text": [
      "I got decorated.\n",
      "I am ordinary function.\n"
     ]
    }
   ],
   "source": [
    "def wrapper_func(func):  # decorator func\n",
    "    def inner_func():\n",
    "        print(\"I got decorated.\")\n",
    "        func()\n",
    "    return inner_func\n",
    "\n",
    "\n",
    "@wrapper_func\n",
    "def ordinary_func():\n",
    "    print(\"I am ordinary function.\")\n",
    "\n",
    "\n",
    "# call the decorated function\n",
    "ordinary_func()\n",
    "        "
   ]
  },
  {
   "cell_type": "markdown",
   "id": "4129ca4e",
   "metadata": {},
   "source": [
    "## 4. Decorating Functions with Parameters"
   ]
  },
  {
   "cell_type": "code",
   "execution_count": 6,
   "id": "49543b4f",
   "metadata": {},
   "outputs": [
    {
     "name": "stdout",
     "output_type": "stream",
     "text": [
      "I am going to divide 2 and 5\n",
      "0.4\n",
      "I am going to divide 2 and 0\n",
      "Whoops! cannot divide\n"
     ]
    }
   ],
   "source": [
    "def smart_divide(func):\n",
    "    def inner(a, b):\n",
    "        print(\"I am going to divide\", a, \"and\", b)\n",
    "        if b == 0:\n",
    "            print(\"Whoops! cannot divide\")\n",
    "            return\n",
    "        func(a, b)\n",
    "        # return func(a, b)\n",
    "    return inner\n",
    "\n",
    "@smart_divide\n",
    "def divide(a, b):\n",
    "    print(a/b)\n",
    "\n",
    "divide(2,5)\n",
    "\n",
    "divide(2,0)"
   ]
  },
  {
   "cell_type": "markdown",
   "id": "754c8413",
   "metadata": {},
   "source": [
    "## 4. Chaining Decorators in Python\n",
    "\n",
    "- Multiple decorators can be chained in Python.\n",
    "- Apply multiple decorators to a single function by placing them one after the other, \n",
    "    - with the most inner decorator being applied first."
   ]
  },
  {
   "cell_type": "code",
   "execution_count": 7,
   "id": "ea096020",
   "metadata": {},
   "outputs": [
    {
     "name": "stdout",
     "output_type": "stream",
     "text": [
      "***************\n",
      "%%%%%%%%%%%%%%%\n",
      "Hello\n",
      "%%%%%%%%%%%%%%%\n",
      "***************\n"
     ]
    }
   ],
   "source": [
    "def star(func):\n",
    "    def inner(*args, **kwargs):\n",
    "        print(\"*\" * 15)\n",
    "        func(*args, **kwargs)\n",
    "        print(\"*\" * 15)\n",
    "    return inner\n",
    "\n",
    "\n",
    "def percent(func):\n",
    "    def inner(*args, **kwargs):\n",
    "        print(\"%\" * 15)\n",
    "        func(*args, **kwargs)\n",
    "        print(\"%\" * 15)\n",
    "    return inner\n",
    "\n",
    "\n",
    "@star\n",
    "@percent\n",
    "def printer(msg):\n",
    "    print(msg)\n",
    "\n",
    "printer(\"Hello\")"
   ]
  },
  {
   "cell_type": "code",
   "execution_count": 8,
   "id": "165d545a",
   "metadata": {},
   "outputs": [
    {
     "name": "stdout",
     "output_type": "stream",
     "text": [
      "calc_square took 18.98813247680664 mil sec\n",
      "calc_cube took 31.980276107788086 mil sec\n"
     ]
    }
   ],
   "source": [
    "# Example Scenario\n",
    "\n",
    "import time\n",
    "def time_it(func):    # Wrapper Function\n",
    "    def wrapper(*args, **kwargs):\n",
    "        start = time.time()\n",
    "        result = func(*args,**kwargs)\n",
    "        end = time.time()\n",
    "        print(func.__name__ +\" took \" + str((end-start)*1000) + \" mil sec\")\n",
    "        return result\n",
    "    return wrapper\n",
    "\n",
    "@time_it\n",
    "def calc_square(numbers):\n",
    "    result = []\n",
    "    for number in numbers:\n",
    "        result.append(number*number)\n",
    "    return result\n",
    "\n",
    "@time_it\n",
    "def calc_cube(numbers):\n",
    "    result = []\n",
    "    for number in numbers:\n",
    "        result.append(number*number*number)\n",
    "    return result\n",
    "\n",
    "array = range(1,100000)\n",
    "out_square = calc_square(array)\n",
    "out_cube = calc_cube(array)"
   ]
  },
  {
   "cell_type": "markdown",
   "id": "77b00b78",
   "metadata": {},
   "source": [
    "*A `Decorator` takes in a function, adds some functionality and returns it*"
   ]
  }
 ],
 "metadata": {
  "kernelspec": {
   "display_name": "Python 3 (ipykernel)",
   "language": "python",
   "name": "python3"
  },
  "language_info": {
   "codemirror_mode": {
    "name": "ipython",
    "version": 3
   },
   "file_extension": ".py",
   "mimetype": "text/x-python",
   "name": "python",
   "nbconvert_exporter": "python",
   "pygments_lexer": "ipython3",
   "version": "3.9.7"
  }
 },
 "nbformat": 4,
 "nbformat_minor": 5
}
